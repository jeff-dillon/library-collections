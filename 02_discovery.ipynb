{
 "cells": [
  {
   "cell_type": "markdown",
   "metadata": {},
   "source": [
    "# Louisville Free Public Library\n",
    "\n",
    "\n",
    "Exampe data analysis project using Louisville Metro Open Data data set for the library book collection.\n",
    "\n",
    "\n",
    "## Data Sources\n",
    "\n",
    "This project uses data from the Louisville Metro Open Data site. You can find the main info page for this data set here: [Library Collection Inventory](https://data.louisvilleky.gov/datasets/LOJIC::louisville-metro-ky-library-collection-inventory-/about).\n",
    "\n",
    "This project also scrapes data about Young Adult book genre from wikipedia using the beautiful soup library. The wikipedia article is here: [title](https://github.com/jeff-dillon/library-collections/blob/main/url).\n",
    "\n",
    "\n",
    "## Books"
   ]
  },
  {
   "cell_type": "code",
   "execution_count": 1,
   "metadata": {},
   "outputs": [
    {
     "data": {
      "text/plain": [
       "(1190176, 10)"
      ]
     },
     "execution_count": 1,
     "metadata": {},
     "output_type": "execute_result"
    }
   ],
   "source": [
    "import pandas as pd\n",
    "\n",
    "books = pd.read_csv(\"data/raw/books.csv.gz\")\n",
    "\n",
    "books.shape"
   ]
  },
  {
   "cell_type": "code",
   "execution_count": 19,
   "metadata": {},
   "outputs": [
    {
     "data": {
      "text/html": [
       "<div>\n",
       "<style scoped>\n",
       "    .dataframe tbody tr th:only-of-type {\n",
       "        vertical-align: middle;\n",
       "    }\n",
       "\n",
       "    .dataframe tbody tr th {\n",
       "        vertical-align: top;\n",
       "    }\n",
       "\n",
       "    .dataframe thead th {\n",
       "        text-align: right;\n",
       "    }\n",
       "</style>\n",
       "<table border=\"1\" class=\"dataframe\">\n",
       "  <thead>\n",
       "    <tr style=\"text-align: right;\">\n",
       "      <th></th>\n",
       "      <th>BibNum</th>\n",
       "      <th>Title</th>\n",
       "      <th>Author</th>\n",
       "      <th>ISBN</th>\n",
       "      <th>PublicationYear</th>\n",
       "      <th>ItemType</th>\n",
       "      <th>ItemCollection</th>\n",
       "      <th>ItemLocation</th>\n",
       "      <th>ItemPrice</th>\n",
       "      <th>ReportDate</th>\n",
       "    </tr>\n",
       "  </thead>\n",
       "  <tbody>\n",
       "    <tr>\n",
       "      <th>0</th>\n",
       "      <td>707409</td>\n",
       "      <td>Jeff Immelt and the new GE way : innovation, t...</td>\n",
       "      <td>Magee, David, 1965-</td>\n",
       "      <td>9780071605878.000</td>\n",
       "      <td>2009</td>\n",
       "      <td>Book</td>\n",
       "      <td>Adult Non-Fiction</td>\n",
       "      <td>Main</td>\n",
       "      <td>25.950</td>\n",
       "      <td>02/01/2023 00:00:00</td>\n",
       "    </tr>\n",
       "    <tr>\n",
       "      <th>1</th>\n",
       "      <td>707411</td>\n",
       "      <td>Robin rescues dinner : 52 weeks of quick-fix m...</td>\n",
       "      <td>Miller, Robin, 1964-</td>\n",
       "      <td>9780307451408.000</td>\n",
       "      <td>2009</td>\n",
       "      <td>Book</td>\n",
       "      <td>Adult Non-Fiction</td>\n",
       "      <td>Southwest</td>\n",
       "      <td>19.990</td>\n",
       "      <td>02/01/2023 00:00:00</td>\n",
       "    </tr>\n",
       "    <tr>\n",
       "      <th>2</th>\n",
       "      <td>707411</td>\n",
       "      <td>Robin rescues dinner : 52 weeks of quick-fix m...</td>\n",
       "      <td>Miller, Robin, 1964-</td>\n",
       "      <td>9780307451408.000</td>\n",
       "      <td>2009</td>\n",
       "      <td>Book</td>\n",
       "      <td>Adult Non-Fiction</td>\n",
       "      <td>Southwest</td>\n",
       "      <td>19.990</td>\n",
       "      <td>02/01/2023 00:00:00</td>\n",
       "    </tr>\n",
       "    <tr>\n",
       "      <th>3</th>\n",
       "      <td>707411</td>\n",
       "      <td>Robin rescues dinner : 52 weeks of quick-fix m...</td>\n",
       "      <td>Miller, Robin, 1964-</td>\n",
       "      <td>9780307451408.000</td>\n",
       "      <td>2009</td>\n",
       "      <td>Book</td>\n",
       "      <td>Adult Non-Fiction</td>\n",
       "      <td>Remote Shelving - Main</td>\n",
       "      <td>19.990</td>\n",
       "      <td>02/01/2023 00:00:00</td>\n",
       "    </tr>\n",
       "    <tr>\n",
       "      <th>4</th>\n",
       "      <td>707411</td>\n",
       "      <td>Robin rescues dinner : 52 weeks of quick-fix m...</td>\n",
       "      <td>Miller, Robin, 1964-</td>\n",
       "      <td>9780307451408.000</td>\n",
       "      <td>2009</td>\n",
       "      <td>Book</td>\n",
       "      <td>Adult Non-Fiction</td>\n",
       "      <td>Remote Shelving - Main</td>\n",
       "      <td>19.990</td>\n",
       "      <td>02/01/2023 00:00:00</td>\n",
       "    </tr>\n",
       "    <tr>\n",
       "      <th>...</th>\n",
       "      <td>...</td>\n",
       "      <td>...</td>\n",
       "      <td>...</td>\n",
       "      <td>...</td>\n",
       "      <td>...</td>\n",
       "      <td>...</td>\n",
       "      <td>...</td>\n",
       "      <td>...</td>\n",
       "      <td>...</td>\n",
       "      <td>...</td>\n",
       "    </tr>\n",
       "    <tr>\n",
       "      <th>1190171</th>\n",
       "      <td>2608597</td>\n",
       "      <td>25 ready-to-use sustainable living programs fo...</td>\n",
       "      <td>NaN</td>\n",
       "      <td>9780838936498.000</td>\n",
       "      <td>2022</td>\n",
       "      <td>Book</td>\n",
       "      <td>Adult Non-Fiction</td>\n",
       "      <td>South Central</td>\n",
       "      <td>63.690</td>\n",
       "      <td>02/01/2023 00:00:00</td>\n",
       "    </tr>\n",
       "    <tr>\n",
       "      <th>1190172</th>\n",
       "      <td>2608598</td>\n",
       "      <td>Crypto basics : a nontechnical introduction to...</td>\n",
       "      <td>Gomzin, Slava</td>\n",
       "      <td>9781484283202.000</td>\n",
       "      <td>2022</td>\n",
       "      <td>Book</td>\n",
       "      <td>Adult Non-Fiction</td>\n",
       "      <td>Bon Air</td>\n",
       "      <td>30.090</td>\n",
       "      <td>02/01/2023 00:00:00</td>\n",
       "    </tr>\n",
       "    <tr>\n",
       "      <th>1190173</th>\n",
       "      <td>2608598</td>\n",
       "      <td>Crypto basics : a nontechnical introduction to...</td>\n",
       "      <td>Gomzin, Slava</td>\n",
       "      <td>9781484283202.000</td>\n",
       "      <td>2022</td>\n",
       "      <td>Book</td>\n",
       "      <td>Adult Non-Fiction</td>\n",
       "      <td>Newburg</td>\n",
       "      <td>30.090</td>\n",
       "      <td>02/01/2023 00:00:00</td>\n",
       "    </tr>\n",
       "    <tr>\n",
       "      <th>1190174</th>\n",
       "      <td>2608599</td>\n",
       "      <td>Data governance</td>\n",
       "      <td>Reichental, Jonathan</td>\n",
       "      <td>9781119906773.000</td>\n",
       "      <td>2023</td>\n",
       "      <td>Book</td>\n",
       "      <td>Adult Non-Fiction</td>\n",
       "      <td>Main</td>\n",
       "      <td>24.340</td>\n",
       "      <td>02/01/2023 00:00:00</td>\n",
       "    </tr>\n",
       "    <tr>\n",
       "      <th>1190175</th>\n",
       "      <td>2608599</td>\n",
       "      <td>Data governance</td>\n",
       "      <td>Reichental, Jonathan</td>\n",
       "      <td>9781119906773.000</td>\n",
       "      <td>2023</td>\n",
       "      <td>Book</td>\n",
       "      <td>Adult Non-Fiction</td>\n",
       "      <td>St Matthews</td>\n",
       "      <td>24.340</td>\n",
       "      <td>02/01/2023 00:00:00</td>\n",
       "    </tr>\n",
       "  </tbody>\n",
       "</table>\n",
       "<p>1190176 rows × 10 columns</p>\n",
       "</div>"
      ],
      "text/plain": [
       "          BibNum                                              Title  \\\n",
       "0         707409  Jeff Immelt and the new GE way : innovation, t...   \n",
       "1         707411  Robin rescues dinner : 52 weeks of quick-fix m...   \n",
       "2         707411  Robin rescues dinner : 52 weeks of quick-fix m...   \n",
       "3         707411  Robin rescues dinner : 52 weeks of quick-fix m...   \n",
       "4         707411  Robin rescues dinner : 52 weeks of quick-fix m...   \n",
       "...          ...                                                ...   \n",
       "1190171  2608597  25 ready-to-use sustainable living programs fo...   \n",
       "1190172  2608598  Crypto basics : a nontechnical introduction to...   \n",
       "1190173  2608598  Crypto basics : a nontechnical introduction to...   \n",
       "1190174  2608599                                    Data governance   \n",
       "1190175  2608599                                    Data governance   \n",
       "\n",
       "                       Author              ISBN  PublicationYear ItemType  \\\n",
       "0         Magee, David, 1965- 9780071605878.000             2009     Book   \n",
       "1        Miller, Robin, 1964- 9780307451408.000             2009     Book   \n",
       "2        Miller, Robin, 1964- 9780307451408.000             2009     Book   \n",
       "3        Miller, Robin, 1964- 9780307451408.000             2009     Book   \n",
       "4        Miller, Robin, 1964- 9780307451408.000             2009     Book   \n",
       "...                       ...               ...              ...      ...   \n",
       "1190171                   NaN 9780838936498.000             2022     Book   \n",
       "1190172         Gomzin, Slava 9781484283202.000             2022     Book   \n",
       "1190173         Gomzin, Slava 9781484283202.000             2022     Book   \n",
       "1190174  Reichental, Jonathan 9781119906773.000             2023     Book   \n",
       "1190175  Reichental, Jonathan 9781119906773.000             2023     Book   \n",
       "\n",
       "            ItemCollection            ItemLocation  ItemPrice  \\\n",
       "0        Adult Non-Fiction                    Main     25.950   \n",
       "1        Adult Non-Fiction               Southwest     19.990   \n",
       "2        Adult Non-Fiction               Southwest     19.990   \n",
       "3        Adult Non-Fiction  Remote Shelving - Main     19.990   \n",
       "4        Adult Non-Fiction  Remote Shelving - Main     19.990   \n",
       "...                    ...                     ...        ...   \n",
       "1190171  Adult Non-Fiction           South Central     63.690   \n",
       "1190172  Adult Non-Fiction                 Bon Air     30.090   \n",
       "1190173  Adult Non-Fiction                 Newburg     30.090   \n",
       "1190174  Adult Non-Fiction                    Main     24.340   \n",
       "1190175  Adult Non-Fiction             St Matthews     24.340   \n",
       "\n",
       "                  ReportDate  \n",
       "0        02/01/2023 00:00:00  \n",
       "1        02/01/2023 00:00:00  \n",
       "2        02/01/2023 00:00:00  \n",
       "3        02/01/2023 00:00:00  \n",
       "4        02/01/2023 00:00:00  \n",
       "...                      ...  \n",
       "1190171  02/01/2023 00:00:00  \n",
       "1190172  02/01/2023 00:00:00  \n",
       "1190173  02/01/2023 00:00:00  \n",
       "1190174  02/01/2023 00:00:00  \n",
       "1190175  02/01/2023 00:00:00  \n",
       "\n",
       "[1190176 rows x 10 columns]"
      ]
     },
     "execution_count": 19,
     "metadata": {},
     "output_type": "execute_result"
    }
   ],
   "source": [
    "books"
   ]
  },
  {
   "cell_type": "markdown",
   "metadata": {},
   "source": [
    "### Library Books Data Dictionary\n",
    "\n",
    "| Column Name | Type | Description | Cleaning Notes |\n",
    "| ----------- | ----- | ----------- | ------------- |\n",
    "| BibNum | number | The unique identifier of a bibliographic record within our materials database. Materials with the same bibliographic # will generally have the same cataloging metadata, differing only in the barcode number, assigned location and anything else specific to the individual copy. | |\n",
    "| Title | text | The name of the material. | |\n",
    "| Author | | The writer or creator of the material. | Format: LastName, FirstName, Dates - needs to match FirstName LastName |\n",
    "| ISBN | | The International Standard Book Number is a numeric commercial book identifier that is intended to be unique. Publishers purchase ISBNs from an affiliate of the International ISBN Agency. An ISBN is assigned to each separate edition and variation of a publication. | |\n",
    "| Publication Year | | The year that the material was originally published. | Includes some incorrect values: 0, 9999, 2109 |\n",
    "| Item Type | | Describes the type of material of each item, including Books, Audiobooks, Serials, DVDs, Microforms, Three Dimensional Objects, Kits, and Printed Cartographic Materials. | |\n",
    "| Item Collection | | Refers to the collection the material belongs to based on common themes, including but not limited to Adult Fiction, Adult Reference, Mystery, Children’s Fiction, etc.  | Will need to create new column based on this one for Young Adult. Can contain empty records. Can contain collections that are not books (DVD, etc.) Can be empty. |\n",
    "| Item Location | | The library location where the material was assigned at the time the report was run. | |\n",
    "| Item Price | | The price, in USD, that LFPL purchased the material for. | may need to round to 2 decimals |"
   ]
  },
  {
   "cell_type": "code",
   "execution_count": 4,
   "metadata": {},
   "outputs": [
    {
     "name": "stdout",
     "output_type": "stream",
     "text": [
      "<class 'pandas.core.frame.DataFrame'>\n",
      "RangeIndex: 1190176 entries, 0 to 1190175\n",
      "Data columns (total 10 columns):\n",
      " #   Column           Non-Null Count    Dtype  \n",
      "---  ------           --------------    -----  \n",
      " 0   BibNum           1190176 non-null  int64  \n",
      " 1   Title            1190175 non-null  object \n",
      " 2   Author           1124225 non-null  object \n",
      " 3   ISBN             1153891 non-null  float64\n",
      " 4   PublicationYear  1190176 non-null  int64  \n",
      " 5   ItemType         1190176 non-null  object \n",
      " 6   ItemCollection   1190036 non-null  object \n",
      " 7   ItemLocation     1190176 non-null  object \n",
      " 8   ItemPrice        1190176 non-null  float64\n",
      " 9   ReportDate       1190176 non-null  object \n",
      "dtypes: float64(2), int64(2), object(6)\n",
      "memory usage: 90.8+ MB\n"
     ]
    }
   ],
   "source": [
    "books.info()"
   ]
  },
  {
   "cell_type": "code",
   "execution_count": 5,
   "metadata": {},
   "outputs": [
    {
     "data": {
      "text/plain": [
       "count     1190176\n",
       "unique          1\n",
       "top          Book\n",
       "freq      1190176\n",
       "Name: ItemType, dtype: object"
      ]
     },
     "execution_count": 5,
     "metadata": {},
     "output_type": "execute_result"
    }
   ],
   "source": [
    "books[\"ItemType\"].describe()"
   ]
  },
  {
   "cell_type": "code",
   "execution_count": 6,
   "metadata": {},
   "outputs": [
    {
     "data": {
      "text/plain": [
       "count               1190036\n",
       "unique                   51\n",
       "top       Adult Non-Fiction\n",
       "freq                 371433\n",
       "Name: ItemCollection, dtype: object"
      ]
     },
     "execution_count": 6,
     "metadata": {},
     "output_type": "execute_result"
    }
   ],
   "source": [
    "books[\"ItemCollection\"].describe()"
   ]
  },
  {
   "cell_type": "code",
   "execution_count": 10,
   "metadata": {},
   "outputs": [
    {
     "data": {
      "text/plain": [
       "array(['Adult Non-Fiction', 'Adult Fiction', 'Mystery',\n",
       "       'Older Teen Fiction', 'Younger Teen  Fiction', 'Adult Paperback',\n",
       "       'Science Fiction', \"Children's Fiction\", 'Western',\n",
       "       \"Children's Picture Paperback\", \"Children's Paperback\",\n",
       "       \"Children's Picture Book\", 'International Collection',\n",
       "       'ELL Collection', 'Teen Non-Fiction', \"Children's Non-Fiction\",\n",
       "       'Holiday', 'Natural Resources', 'Kentucky History', 'Oversize',\n",
       "       'Urban Fiction', 'Bestsellers', 'Storytime Collection',\n",
       "       \"Children's Board Book\", \"Children's Easy Reader\",\n",
       "       'Preschool  Picture Book', 'Adult Reference', 'Interlibrary Loan',\n",
       "       nan, 'Adult Paperbacks Tall', \"Children's Easy Reader Paperback\",\n",
       "       'Caldecott/Newbery', 'Laptop', 'Government Documents',\n",
       "       'Large Print', 'Telereference', \"Children's Non-Fiction Paperback\",\n",
       "       'Big Book', \"Children's Reference\", 'Teen Reference',\n",
       "       'College Shop', 'Magazines and Newspaper',\n",
       "       'Younger Teen  Paperback', 'Younger Teen  Audiobook', 'Readalongs',\n",
       "       'Listening Device', 'Adult Audiobook', 'Electronic',\n",
       "       \"Children's Music\", 'Adult DVD', 'Music', 'Book Discussion Kit'],\n",
       "      dtype=object)"
      ]
     },
     "execution_count": 10,
     "metadata": {},
     "output_type": "execute_result"
    }
   ],
   "source": [
    "books[\"ItemCollection\"].unique()"
   ]
  },
  {
   "cell_type": "code",
   "execution_count": 2,
   "metadata": {},
   "outputs": [
    {
     "data": {
      "text/plain": [
       "ItemCollection\n",
       "Adult Non-Fiction                   371433\n",
       "Adult Fiction                       177604\n",
       "Children's Non-Fiction               86356\n",
       "Mystery                              60314\n",
       "Children's Picture Book              59348\n",
       "Preschool  Picture Book              51276\n",
       "Children's Fiction                   48446\n",
       "Adult Paperback                      45302\n",
       "Children's Paperback                 45076\n",
       "Children's Easy Reader               24511\n",
       "Teen Non-Fiction                     24376\n",
       "Older Teen Fiction                   23787\n",
       "Children's Board Book                20057\n",
       "Younger Teen  Fiction                17532\n",
       "Kentucky History                     16962\n",
       "Science Fiction                      16048\n",
       "Children's Easy Reader Paperback     15959\n",
       "Holiday                              15583\n",
       "International Collection             15581\n",
       "Adult Reference                      11197\n",
       "Children's Picture Paperback          9731\n",
       "Urban Fiction                         7601\n",
       "Caldecott/Newbery                     6777\n",
       "Storytime Collection                  4070\n",
       "Government Documents                  3355\n",
       "Oversize                              2252\n",
       "Western                               2140\n",
       "Bestsellers                           2122\n",
       "ELL Collection                        1832\n",
       "Natural Resources                     1505\n",
       "Adult Paperbacks Tall                  757\n",
       "Children's Reference                   541\n",
       "Interlibrary Loan                      168\n",
       "Laptop                                 101\n",
       "Big Book                                94\n",
       "Children's Non-Fiction Paperback        67\n",
       "Large Print                             59\n",
       "Readalongs                              38\n",
       "College Shop                            18\n",
       "Listening Device                        16\n",
       "Telereference                           10\n",
       "Teen Reference                           8\n",
       "Younger Teen  Audiobook                  6\n",
       "Magazines and Newspaper                  5\n",
       "Adult DVD                                4\n",
       "Electronic                               3\n",
       "Music                                    2\n",
       "Younger Teen  Paperback                  2\n",
       "Adult Audiobook                          2\n",
       "Children's Music                         1\n",
       "Book Discussion Kit                      1\n",
       "Name: count, dtype: int64"
      ]
     },
     "execution_count": 2,
     "metadata": {},
     "output_type": "execute_result"
    }
   ],
   "source": [
    "books[\"ItemCollection\"].value_counts()"
   ]
  },
  {
   "cell_type": "code",
   "execution_count": 13,
   "metadata": {},
   "outputs": [
    {
     "data": {
      "text/plain": [
       "count   1190176.000\n",
       "mean         18.451\n",
       "std          15.998\n",
       "min           0.000\n",
       "25%          10.950\n",
       "50%          15.990\n",
       "75%          24.950\n",
       "max        1077.000\n",
       "Name: ItemPrice, dtype: float64"
      ]
     },
     "execution_count": 13,
     "metadata": {},
     "output_type": "execute_result"
    }
   ],
   "source": [
    "pd.set_option('display.float_format', lambda x: '%.3f' % x)\n",
    "books[\"ItemPrice\"].describe()                                           "
   ]
  },
  {
   "cell_type": "code",
   "execution_count": 15,
   "metadata": {},
   "outputs": [
    {
     "data": {
      "text/plain": [
       "array(['Main', 'Southwest', 'Remote Shelving - Main', 'Newburg',\n",
       "       'South Central', 'St Matthews', 'Fairdale', 'Bon Air',\n",
       "       'Jeffersontown', 'Iroquois', 'Crescent Hill',\n",
       "       'Remote Shelving - Shawnee', 'Northeast', 'Childrens Main Library',\n",
       "       'Shively', 'Highlands - Shelby Park', 'Middletown', 'Portland',\n",
       "       'Western', 'Main Teen', 'Shawnee', 'Childrens Bookmobile',\n",
       "       'Content Management', 'Adult Bookmobile'], dtype=object)"
      ]
     },
     "execution_count": 15,
     "metadata": {},
     "output_type": "execute_result"
    }
   ],
   "source": [
    "books[\"ItemLocation\"].unique()"
   ]
  },
  {
   "cell_type": "code",
   "execution_count": 3,
   "metadata": {},
   "outputs": [
    {
     "data": {
      "text/plain": [
       "ItemLocation\n",
       "Remote Shelving - Main       139987\n",
       "Northeast                    124473\n",
       "Southwest                    122113\n",
       "Main                         121439\n",
       "South Central                115837\n",
       "Bon Air                       74730\n",
       "St Matthews                   69531\n",
       "Jeffersontown                 56706\n",
       "Iroquois                      52382\n",
       "Highlands - Shelby Park       45539\n",
       "Crescent Hill                 42837\n",
       "Childrens Main Library        38994\n",
       "Middletown                    33120\n",
       "Shively                       23623\n",
       "Newburg                       23586\n",
       "Fairdale                      23149\n",
       "Shawnee                       22906\n",
       "Western                       21648\n",
       "Portland                      13334\n",
       "Childrens Bookmobile           9129\n",
       "Remote Shelving - Shawnee      9083\n",
       "Main Teen                      6024\n",
       "Content Management                4\n",
       "Adult Bookmobile                  2\n",
       "Name: count, dtype: int64"
      ]
     },
     "execution_count": 3,
     "metadata": {},
     "output_type": "execute_result"
    }
   ],
   "source": [
    "books[\"ItemLocation\"].value_counts()"
   ]
  },
  {
   "cell_type": "code",
   "execution_count": 20,
   "metadata": {},
   "outputs": [
    {
     "data": {
      "text/plain": [
       "array([2009, 2010, 2011, 2002, 2005, 2003, 2006, 2008, 2017, 2016, 1991,\n",
       "       2012, 2015, 1989, 2014, 1990, 2007, 2021, 2022, 2013, 2000, 1994,\n",
       "       1993, 2004, 1992, 2001, 1995, 1997, 1996, 1999, 1985, 1986, 1998,\n",
       "       1974, 1982, 1983,    0, 2023, 1952, 1973, 1979, 1981, 1988, 1984,\n",
       "       1976, 1980, 1929, 1975, 1968, 2019, 1977, 1930, 1935, 1954, 1962,\n",
       "       1895, 2020, 1978, 1987, 2018, 1965, 1951, 1966, 1956, 1969, 1971,\n",
       "       1950, 1964, 1963, 1957, 1972, 1958, 1953, 1970, 1961, 1955, 1941,\n",
       "       1851, 1907, 1932, 1959, 1948, 1923, 1960, 1915, 1945, 1967, 1938,\n",
       "       1949, 1939, 1916, 1913, 1924, 1911, 1937, 1876, 1942, 1898, 1940,\n",
       "       1947, 1934, 1946, 1912, 1890, 1878, 1880, 1936, 1933, 1931, 1928,\n",
       "       1892, 1918, 1917, 1919, 1914, 1944, 1943, 1900, 1909, 1903, 1908,\n",
       "       1861, 1902, 1920, 1926, 1904, 1899, 1901, 1922, 1921, 1889, 1870,\n",
       "       1887, 1905, 1884, 1906, 1883, 1897, 1893, 1877, 1829, 1925, 1875,\n",
       "       1886, 1885, 1856, 1867, 1874, 1910, 1866, 1927, 1891, 1825, 1838,\n",
       "       1894, 1882, 1858, 1855, 1869, 1873, 1843, 1800, 1844, 1832, 1896,\n",
       "       1841, 1871, 1868, 1850, 1842, 1872, 1845, 1853, 1881, 1888, 1862,\n",
       "       1840, 1857, 1852, 1854, 1860, 1818, 1828, 1823, 1847, 1848, 1836,\n",
       "       1817, 1809, 1837, 1846, 1859, 1879, 1865, 1849, 1839, 1812, 1833,\n",
       "       1808, 9999, 1822, 1821, 1864, 1798, 1790, 1831, 1835, 1830, 1863,\n",
       "       1794, 1814, 1807, 2109])"
      ]
     },
     "execution_count": 20,
     "metadata": {},
     "output_type": "execute_result"
    }
   ],
   "source": [
    "books[\"PublicationYear\"].unique()"
   ]
  },
  {
   "cell_type": "markdown",
   "metadata": {},
   "source": [
    "## Authors"
   ]
  },
  {
   "cell_type": "code",
   "execution_count": 42,
   "metadata": {},
   "outputs": [
    {
     "data": {
      "text/plain": [
       "(635, 1)"
      ]
     },
     "execution_count": 42,
     "metadata": {},
     "output_type": "execute_result"
    }
   ],
   "source": [
    "authors = pd.read_csv(\"data/raw/authors.csv\", index_col=0)\n",
    "\n",
    "authors.shape"
   ]
  },
  {
   "cell_type": "markdown",
   "metadata": {},
   "source": [
    "### Data Dictionary\n",
    "\n",
    "| Column Name | Type | Description | Cleaning Notes |\n",
    "| ----------- | ----- | ----------- | ------------- |\n",
    "| index | number | unique id |  none |\n",
    "| Name | text |  author's name | some names include parantheses that need to be removed. Example:(author, born 1954). Consider creating a last name field for easier matching. |"
   ]
  },
  {
   "cell_type": "code",
   "execution_count": 43,
   "metadata": {},
   "outputs": [
    {
     "data": {
      "text/html": [
       "<div>\n",
       "<style scoped>\n",
       "    .dataframe tbody tr th:only-of-type {\n",
       "        vertical-align: middle;\n",
       "    }\n",
       "\n",
       "    .dataframe tbody tr th {\n",
       "        vertical-align: top;\n",
       "    }\n",
       "\n",
       "    .dataframe thead th {\n",
       "        text-align: right;\n",
       "    }\n",
       "</style>\n",
       "<table border=\"1\" class=\"dataframe\">\n",
       "  <thead>\n",
       "    <tr style=\"text-align: right;\">\n",
       "      <th></th>\n",
       "      <th>Name</th>\n",
       "    </tr>\n",
       "  </thead>\n",
       "  <tbody>\n",
       "    <tr>\n",
       "      <th>1</th>\n",
       "      <td>Atia Abawi</td>\n",
       "    </tr>\n",
       "    <tr>\n",
       "      <th>2</th>\n",
       "      <td>Joan Abelove</td>\n",
       "    </tr>\n",
       "    <tr>\n",
       "      <th>3</th>\n",
       "      <td>Hailey Abbott</td>\n",
       "    </tr>\n",
       "    <tr>\n",
       "      <th>4</th>\n",
       "      <td>Faridah Àbíké-Íyímídé</td>\n",
       "    </tr>\n",
       "    <tr>\n",
       "      <th>5</th>\n",
       "      <td>Marguerite Abouet</td>\n",
       "    </tr>\n",
       "    <tr>\n",
       "      <th>...</th>\n",
       "      <td>...</td>\n",
       "    </tr>\n",
       "    <tr>\n",
       "      <th>631</th>\n",
       "      <td>Xiran Jay Zhao</td>\n",
       "    </tr>\n",
       "    <tr>\n",
       "      <th>632</th>\n",
       "      <td>Cecily von Ziegesar</td>\n",
       "    </tr>\n",
       "    <tr>\n",
       "      <th>633</th>\n",
       "      <td>Paul Zindel</td>\n",
       "    </tr>\n",
       "    <tr>\n",
       "      <th>634</th>\n",
       "      <td>Ibi Zoboi</td>\n",
       "    </tr>\n",
       "    <tr>\n",
       "      <th>635</th>\n",
       "      <td>Markus Zusak</td>\n",
       "    </tr>\n",
       "  </tbody>\n",
       "</table>\n",
       "<p>635 rows × 1 columns</p>\n",
       "</div>"
      ],
      "text/plain": [
       "                      Name\n",
       "1               Atia Abawi\n",
       "2             Joan Abelove\n",
       "3            Hailey Abbott\n",
       "4    Faridah Àbíké-Íyímídé\n",
       "5        Marguerite Abouet\n",
       "..                     ...\n",
       "631         Xiran Jay Zhao\n",
       "632    Cecily von Ziegesar\n",
       "633            Paul Zindel\n",
       "634              Ibi Zoboi\n",
       "635           Markus Zusak\n",
       "\n",
       "[635 rows x 1 columns]"
      ]
     },
     "execution_count": 43,
     "metadata": {},
     "output_type": "execute_result"
    }
   ],
   "source": [
    "authors"
   ]
  },
  {
   "cell_type": "code",
   "execution_count": 6,
   "metadata": {},
   "outputs": [
    {
     "data": {
      "text/plain": [
       "Name\n",
       "2    484\n",
       "3    141\n",
       "4      7\n",
       "5      3\n",
       "Name: count, dtype: int64"
      ]
     },
     "execution_count": 6,
     "metadata": {},
     "output_type": "execute_result"
    }
   ],
   "source": [
    "authors[\"Name\"].str.split().apply(len).value_counts()"
   ]
  },
  {
   "cell_type": "markdown",
   "metadata": {},
   "source": [
    "## Questions\n",
    "\n",
    "- Which location has the most books?\n",
    "- Are the collections (genres) different by location?\n",
    "- Which books are most popular?\n",
    "- When were most YA books published?\n",
    "- Which books are the least popular?\n",
    "- How much did the library spend per Genre, Location?\n",
    "- What is considered older teen vs. younger teen?\n",
    "- What percentage of all YA authors are represented in the catalog?\n",
    "- Are there foreign language books? (might have to look at titles)\n",
    "- Average publication date by genre\n",
    "\n",
    "\n",
    "## Fields Needed\n",
    "\n",
    "- Young Adult field\n",
    "- Need an author field in the books data set that matches the format in the authors dataset\n",
    "- Publication Decade\n",
    "- Split the ItemCollection field into: Genre, TargetAudience, Format, Accolades"
   ]
  }
 ],
 "metadata": {
  "kernelspec": {
   "display_name": "Python 3.9.2 ('venv': venv)",
   "language": "python",
   "name": "python3"
  },
  "language_info": {
   "codemirror_mode": {
    "name": "ipython",
    "version": 3
   },
   "file_extension": ".py",
   "mimetype": "text/x-python",
   "name": "python",
   "nbconvert_exporter": "python",
   "pygments_lexer": "ipython3",
   "version": "3.9.2"
  },
  "orig_nbformat": 4,
  "vscode": {
   "interpreter": {
    "hash": "8c8651de12839a48f2b30ebff43ede39394fcfa912dbb6f982cfe82b34553f38"
   }
  }
 },
 "nbformat": 4,
 "nbformat_minor": 2
}
